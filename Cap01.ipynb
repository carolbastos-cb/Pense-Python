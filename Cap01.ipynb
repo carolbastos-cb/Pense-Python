{
 "cells": [
  {
   "cell_type": "markdown",
   "metadata": {},
   "source": [
    "<b><i><h1 style=\"color:GhostWhite;text-align:center;font-size:45px;background-color:dimgray\">\n",
    "    Capítulo 1: A jornada do programa\n",
    "    </h1></i></b>\n",
    "<hr size=\"10\">"
   ]
  },
  {
   "cell_type": "markdown",
   "metadata": {},
   "source": [
    "A habilidade mais específica do programador é a habilidade de **resolver problemas**.\n",
    "\n",
    "Resolver problemas significa pegar ou criar uma situação, pensar criativamente uma solução e, por fim, expressar essa solução de forma clara e precisa.\n",
    "\n",
    "Um **programa** nada mais é do que uma sequência de instruções para realizar algo.\n",
    "Para desenvolver um programa, por mais complexo que ele seja, o programador deverá ser capaz de identificar as tarefas grandes e quebrá-las em tarefas menores até que elas estejam simples o suficiente para serem executadas por uma das operações básicas abaixo:\n",
    "\n",
    "- entrada de dados\n",
    "- processamento dos dados:\n",
    "    - matmática\n",
    "    - repetição\n",
    "    - condição\n",
    "- saída dos dados\n"
   ]
  },
  {
   "cell_type": "markdown",
   "metadata": {},
   "source": [
    "<hr size=\"3\"/>\n",
    "<b><i><h2 style=\"color:ghostwhite;text-align:center;font-size:35px;background-color:darkblue\">\n",
    "    OPERADORES ARITMÉTICOS - BINÁRIOS\n",
    "    </h2></i></b>\n",
    "<hr size=\"3\"/>"
   ]
  },
  {
   "cell_type": "markdown",
   "metadata": {},
   "source": [
    "Python reserva alguns símbolos para a realização de algumas operações matemáticas. São elas:\n",
    "\n",
    "OPERAÇÃO|SÍMBOLO\n",
    "-:-|--:\n",
    "**Soma** | `+`      \n",
    "**Subtração** | `-`\n",
    "**Multiplicação** | `*`\n",
    "**Potenciação** | `**`\n",
    "**Divisão** | `/`\n",
    "**Divisão (inteiros)** | `//`\n",
    "**Módulo** | `%`\n",
    "\n",
    "\n",
    "Vale destacar que nesse caso temos operadores binários, pois exigem 2 operandos e 1 operador, como no exemplo abaixo:\n",
    "\n",
    "**Operando**|**Operador**|**Operando**\n",
    ":--:|:--:|:--:\n",
    "2|+|2\n",
    "5|**|2\n",
    "\n",
    "\n",
    "\n"
   ]
  },
  {
   "cell_type": "code",
   "execution_count": 6,
   "metadata": {},
   "outputs": [
    {
     "data": {
      "text/plain": [
       "42"
      ]
     },
     "execution_count": 6,
     "metadata": {},
     "output_type": "execute_result"
    }
   ],
   "source": [
    "# soma\n",
    "\n",
    "40 + 2"
   ]
  },
  {
   "cell_type": "code",
   "execution_count": 7,
   "metadata": {},
   "outputs": [
    {
     "data": {
      "text/plain": [
       "38"
      ]
     },
     "execution_count": 7,
     "metadata": {},
     "output_type": "execute_result"
    }
   ],
   "source": [
    "# subtração\n",
    "\n",
    "40 - 2"
   ]
  },
  {
   "cell_type": "code",
   "execution_count": 8,
   "metadata": {},
   "outputs": [
    {
     "data": {
      "text/plain": [
       "80"
      ]
     },
     "execution_count": 8,
     "metadata": {},
     "output_type": "execute_result"
    }
   ],
   "source": [
    "# multiplicação\n",
    "\n",
    "40 * 2"
   ]
  },
  {
   "cell_type": "code",
   "execution_count": 12,
   "metadata": {},
   "outputs": [
    {
     "data": {
      "text/plain": [
       "8"
      ]
     },
     "execution_count": 12,
     "metadata": {},
     "output_type": "execute_result"
    }
   ],
   "source": [
    "# exponenciação (elevar um número x a uma potência y)\n",
    "\n",
    "2 ** 3"
   ]
  },
  {
   "cell_type": "code",
   "execution_count": 9,
   "metadata": {},
   "outputs": [
    {
     "data": {
      "text/plain": [
       "20.0"
      ]
     },
     "execution_count": 9,
     "metadata": {},
     "output_type": "execute_result"
    }
   ],
   "source": [
    "# divisão\n",
    "\n",
    "40 / 2"
   ]
  },
  {
   "cell_type": "code",
   "execution_count": 13,
   "metadata": {},
   "outputs": [
    {
     "data": {
      "text/plain": [
       "13"
      ]
     },
     "execution_count": 13,
     "metadata": {},
     "output_type": "execute_result"
    }
   ],
   "source": [
    "# divisão inteiros (essa divisão não arredonda, ela somente pega a parte inteira da divisão)\n",
    "\n",
    "40 // 3"
   ]
  },
  {
   "cell_type": "code",
   "execution_count": 14,
   "metadata": {},
   "outputs": [
    {
     "data": {
      "text/plain": [
       "1"
      ]
     },
     "execution_count": 14,
     "metadata": {},
     "output_type": "execute_result"
    }
   ],
   "source": [
    "# módulo da divisão (pega somente o resto da divisão)\n",
    "\n",
    "10 % 3"
   ]
  },
  {
   "cell_type": "markdown",
   "metadata": {},
   "source": [
    "<hr size=\"3\"/>\n",
    "<b><i><h2 style=\"color:ghostwhite;text-align:center;font-size:35px;background-color:darkblue\">\n",
    "    TIPOS\n",
    "    </h2></i></b>\n",
    "<hr size=\"3\"/>"
   ]
  },
  {
   "cell_type": "markdown",
   "metadata": {},
   "source": [
    "Python possui diversos tipos de objetos, dentre eles estão:\n",
    "\n",
    "- ***strings*** : delimitadas entre aspas simples ou duplas, strings são sequências imutáveis de caracteres \n",
    "- ***números*** : os mais comuns são os inteiros **`int`** e os ponto flutuantes **`float`**\n",
    "    - os números inteiros não possuem casas decimais\n",
    "    - os números flutuantes são representados em Python com ponto (.) e não com vírgulas (,)\n",
    "\n",
    "\n",
    "Para descobrir qual o tipo de um objeto podemos usar a função **`type()`**"
   ]
  },
  {
   "cell_type": "code",
   "execution_count": 16,
   "metadata": {},
   "outputs": [
    {
     "data": {
      "text/plain": [
       "'Hello World!'"
      ]
     },
     "execution_count": 16,
     "metadata": {},
     "output_type": "execute_result"
    }
   ],
   "source": [
    "# string\n",
    "\n",
    "'Hello World!'"
   ]
  },
  {
   "cell_type": "code",
   "execution_count": 18,
   "metadata": {},
   "outputs": [
    {
     "name": "stdout",
     "output_type": "stream",
     "text": [
      "<class 'str'>\n"
     ]
    }
   ],
   "source": [
    "# descobrindo o tipo do objeto hello world\n",
    "\n",
    "print(type(\"Hello World!\"))"
   ]
  },
  {
   "cell_type": "code",
   "execution_count": 20,
   "metadata": {},
   "outputs": [
    {
     "name": "stdout",
     "output_type": "stream",
     "text": [
      "<class 'int'>\n",
      "<class 'float'>\n"
     ]
    }
   ],
   "source": [
    "# números - observe que mesmo que o decimal seja zero, o tipo de objeto muda de int para float\n",
    "\n",
    "print(type(42))\n",
    "print(type(42.0))"
   ]
  },
  {
   "cell_type": "markdown",
   "metadata": {},
   "source": [
    "<hr size=\"3\"/>\n",
    "<b><i><h2 style=\"color:ghostwhite;text-align:center;font-size:35px;background-color:darkblue\">\n",
    "    LINGUAGENS\n",
    "    </h2></i></b>\n",
    "<hr size=\"3\"/>"
   ]
  },
  {
   "cell_type": "markdown",
   "metadata": {},
   "source": [
    "Existem 2 tipos de linguagens, a **linguagem natural**, utilizada na nossa comunicação do dia-a-dia, a e **linguagem formal**, que é uma linguagem pensadas e criadas para cumprir funções específicas.\n",
    "\n",
    "Embora essas 2 linguagens tenham suas semelhanças, algumas diferenças devem ser destacadas:\n",
    "\n",
    "- ***ambiguidade*** : linguagens naturais são cheias de amiguidade enquatnto as formais foram criadas para não ter\n",
    "- ***redundância*** : enquanto as linguagens naturais são bastante redundantes, as formais são mais concisas\n",
    "- ***literalidade*** : linguagens naturais possibilitam diversas metáforas, porém, as formais têm significados exatamente iguais ao que expressam\n"
   ]
  },
  {
   "cell_type": "markdown",
   "metadata": {},
   "source": [
    "<hr size=\"3\"/>\n",
    "<b><i><h2 style=\"color:ghostwhite;text-align:center;font-size:35px;background-color:darkblue\">\n",
    "    DEPURAÇÃO\n",
    "    </h2></i></b>\n",
    "<hr size=\"3\"/>"
   ]
  },
  {
   "cell_type": "markdown",
   "metadata": {},
   "source": [
    "Depuração é o processo utilizado para encontrar erros (bugs) nos códigos escritos."
   ]
  },
  {
   "cell_type": "markdown",
   "metadata": {},
   "source": [
    "<hr size=\"3\"/>\n",
    "<b><i><h2 style=\"color:ghostwhite;text-align:center;font-size:35px;background-color:darkblue\">\n",
    "    EXERCÍCIOS\n",
    "    </h2></i></b>\n",
    "<hr size=\"3\"/>"
   ]
  },
  {
   "cell_type": "code",
   "execution_count": 32,
   "metadata": {},
   "outputs": [
    {
     "data": {
      "text/plain": [
       "'\\nprint \\'Hello World\\'\\n\\nFile \"<ipython-input-25-b06220258ad8>\", line 5\\n    print \\'Hello World\\'\\n          ^\\nSyntaxError: Missing parentheses in call to \\'print\\'. Did you mean print(\\'Hello World\\')\\'\\n'"
      ]
     },
     "execution_count": 32,
     "metadata": {},
     "output_type": "execute_result"
    }
   ],
   "source": [
    "'''\n",
    "Em uma instrução print, o que acontece se você omitir um dos parênteses ou ambos?\n",
    "'''\n",
    "\n",
    "'''\n",
    "print 'Hello World'\n",
    "\n",
    "File \"<ipython-input-25-b06220258ad8>\", line 5\n",
    "    print 'Hello World'\n",
    "          ^\n",
    "SyntaxError: Missing parentheses in call to 'print'. Did you mean print('Hello World')'\n",
    "'''"
   ]
  },
  {
   "cell_type": "code",
   "execution_count": 33,
   "metadata": {},
   "outputs": [
    {
     "data": {
      "text/plain": [
       "'\\nprint(\\'Hello)\\n\\n File \"<ipython-input-26-21189aa73857>\", line 5\\n    print(\\'Hello)\\n                 ^\\nSyntaxError: EOL while scanning string literal\\n'"
      ]
     },
     "execution_count": 33,
     "metadata": {},
     "output_type": "execute_result"
    }
   ],
   "source": [
    "'''\n",
    "Se estiver tentando imprimir uma string, o que acontece se omitir uma das aspas ou ambas?\n",
    "'''\n",
    "\n",
    "'''\n",
    "print('Hello)\n",
    "\n",
    " File \"<ipython-input-26-21189aa73857>\", line 5\n",
    "    print('Hello)\n",
    "                 ^\n",
    "SyntaxError: EOL while scanning string literal\n",
    "'''"
   ]
  },
  {
   "cell_type": "code",
   "execution_count": 27,
   "metadata": {},
   "outputs": [
    {
     "data": {
      "text/plain": [
       "4"
      ]
     },
     "execution_count": 27,
     "metadata": {},
     "output_type": "execute_result"
    }
   ],
   "source": [
    "'''\n",
    "Você pode usar um sinal de menos para fazer um número negativo como -2. \n",
    "O que acontece se puser um sinal de mais antes de um número? E se escrever assim: 2++2?\n",
    "'''\n",
    "\n",
    "2++2"
   ]
  },
  {
   "cell_type": "code",
   "execution_count": 28,
   "metadata": {},
   "outputs": [
    {
     "ename": "SyntaxError",
     "evalue": "leading zeros in decimal integer literals are not permitted; use an 0o prefix for octal integers (<ipython-input-28-27e6cd588707>, line 6)",
     "output_type": "error",
     "traceback": [
      "\u001b[0;36m  File \u001b[0;32m\"<ipython-input-28-27e6cd588707>\"\u001b[0;36m, line \u001b[0;32m6\u001b[0m\n\u001b[0;31m    01 + 01\u001b[0m\n\u001b[0m     ^\u001b[0m\n\u001b[0;31mSyntaxError\u001b[0m\u001b[0;31m:\u001b[0m leading zeros in decimal integer literals are not permitted; use an 0o prefix for octal integers\n"
     ]
    }
   ],
   "source": [
    "'''\n",
    "Na notação matemática, zeros à esquerda são aceitáveis, como em 02. \n",
    "O que acontece se você tentar usar isso no Python?\n",
    "'''\n",
    "\n",
    "01 + 01"
   ]
  },
  {
   "cell_type": "code",
   "execution_count": 30,
   "metadata": {},
   "outputs": [
    {
     "data": {
      "text/plain": [
       "22"
      ]
     },
     "execution_count": 30,
     "metadata": {},
     "output_type": "execute_result"
    }
   ],
   "source": [
    "'''\n",
    "O que acontece se você tiver dois valores sem nenhum operador entre eles?\n",
    "'''\n",
    "\n",
    "22"
   ]
  },
  {
   "cell_type": "code",
   "execution_count": 5,
   "metadata": {},
   "outputs": [
    {
     "data": {
      "text/plain": [
       "2562"
      ]
     },
     "execution_count": 5,
     "metadata": {},
     "output_type": "execute_result"
    }
   ],
   "source": [
    "'''\n",
    "Quantos segundos há em 42 minutos e 42 segundos?\n",
    "'''\n",
    "\n",
    "tempo_seg = (42*60) + 42\n",
    "tempo_seg"
   ]
  },
  {
   "cell_type": "code",
   "execution_count": 6,
   "metadata": {},
   "outputs": [
    {
     "data": {
      "text/plain": [
       "6.211180124223602"
      ]
     },
     "execution_count": 6,
     "metadata": {},
     "output_type": "execute_result"
    }
   ],
   "source": [
    "'''\n",
    "Quantas milhas há em 10 quilômetros? Dica: uma milha equivale a 1,61 quilômetro.\n",
    "'''\n",
    "\n",
    "espaco_milha = 10 / 1.61\n",
    "espaco_milha"
   ]
  },
  {
   "cell_type": "code",
   "execution_count": 11,
   "metadata": {},
   "outputs": [
    {
     "name": "stdout",
     "output_type": "stream",
     "text": [
      "Passo médio em milhas por minuto é 0.15 milhas/min\n",
      "Passo médio em milhas por segundo é 0.0 milhas/seg\n",
      "Velocidade média em milhas por hora é 8.73 milhas/hora\n"
     ]
    }
   ],
   "source": [
    "'''\n",
    "Se você correr 10 quilômetros em 42 minutos e 42 segundos, qual é o seu passo médio \n",
    "(tempo por milha em minutos e segundos)? Qual é a sua velocidade média em milhas por hora?\n",
    "'''\n",
    "\n",
    "tempo_min = (42 + (42/60))\n",
    "tempo_hora = (tempo_min / 60)\n",
    "\n",
    "passo_medio_min = espaco_milha / tempo_min\n",
    "passo_medio_seg = espaco_milha / tempo_seg\n",
    "velocidade_media = espaco_milha / tempo_hora\n",
    " \n",
    "print (f'Passo médio em milhas por minuto é {round(passo_medio_min,2)} milhas/min')\n",
    "print (f'Passo médio em milhas por segundo é {round(passo_medio_seg,2)} milhas/seg')\n",
    "print (f'Velocidade média em milhas por hora é {round(velocidade_media,2)} milhas/hora')"
   ]
  }
 ],
 "metadata": {
  "kernelspec": {
   "display_name": "Python 3",
   "language": "python",
   "name": "python3"
  },
  "language_info": {
   "codemirror_mode": {
    "name": "ipython",
    "version": 3
   },
   "file_extension": ".py",
   "mimetype": "text/x-python",
   "name": "python",
   "nbconvert_exporter": "python",
   "pygments_lexer": "ipython3",
   "version": "3.8.3"
  }
 },
 "nbformat": 4,
 "nbformat_minor": 4
}
